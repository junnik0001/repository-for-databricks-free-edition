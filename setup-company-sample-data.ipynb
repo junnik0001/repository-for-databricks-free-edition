{
 "cells": [
  {
   "cell_type": "code",
   "execution_count": 0,
   "metadata": {
    "application/vnd.databricks.v1+cell": {
     "cellMetadata": {
      "byteLimit": 2048000,
      "rowLimit": 10000
     },
     "inputWidgets": {},
     "nuid": "07a34ff6-fda0-4a34-8659-257a6181fbed",
     "showTitle": true,
     "tableResultSettingsMap": {},
     "title": "hive_metastoreを再現"
    }
   },
   "outputs": [],
   "source": [
    "use catalog hivemetastore;\n",
    "create schema if not exists jp_sy_dl_tables;\n",
    "create or replace table jp_sy_dl_tables.sy_pos_items as select date(dateTime) visit_dt, transactionID tc_nbr, customerID rktn_mbr_id,\n",
    "paymentMethod pmnt_mthd_nm, cardNumber credit_card_nbr, product item_nm, quantity sales_qty, totalPrice scan_rtl_amt from samples.bakehouse.sales_transactions;\n",
    "comment on table jp_sy_dl_tables.sy_pos_items is '# POS売上データ';\n",
    "comment on column jp_sy_dl_tables.sy_pos_items.visit_dt is '売上日';\n",
    "comment on column jp_sy_dl_tables.sy_pos_items.tc_nbr is 'TC番号';\n",
    "comment on column jp_sy_dl_tables.sy_pos_items.rktn_mbr_id is 'Rポイントカード番号';\n",
    "comment on column jp_sy_dl_tables.sy_pos_items.pmnt_mthd_nm is '支払方法';\n",
    "comment on column jp_sy_dl_tables.sy_pos_items.credit_card_nbr is 'クレジットカード番号';\n",
    "comment on column jp_sy_dl_tables.sy_pos_items.item_nm is '商品名';\n",
    "comment on column jp_sy_dl_tables.sy_pos_items.sales_qty is '売上数量';\n",
    "comment on column jp_sy_dl_tables.sy_pos_items.scan_rtl_amt is '売上金額';\n",
    "select * from jp_sy_dl_tables.sy_pos_items;"
   ]
  },
  {
   "cell_type": "code",
   "execution_count": 0,
   "metadata": {
    "application/vnd.databricks.v1+cell": {
     "cellMetadata": {
      "byteLimit": 2048000,
      "rowLimit": 10000
     },
     "inputWidgets": {},
     "nuid": "dd0364fb-3449-47a3-836d-b3b8c43c36f7",
     "showTitle": true,
     "tableResultSettingsMap": {},
     "title": "unity_catalogを再現"
    }
   },
   "outputs": [],
   "source": [
    "create catalog if not exists unity_catalog;\n",
    "use catalog unity_catalog;\n",
    "create schema if not exists jp_sy_dl_tables;"
   ]
  }
 ],
 "metadata": {
  "application/vnd.databricks.v1+notebook": {
   "computePreferences": null,
   "dashboards": [],
   "environmentMetadata": {
    "base_environment": "",
    "environment_version": "3"
   },
   "inputWidgetPreferences": null,
   "language": "sql",
   "notebookMetadata": {
    "pythonIndentUnit": 4
   },
   "notebookName": "setup-company-sample-data",
   "widgets": {}
  },
  "language_info": {
   "name": "sql"
  }
 },
 "nbformat": 4,
 "nbformat_minor": 0
}
