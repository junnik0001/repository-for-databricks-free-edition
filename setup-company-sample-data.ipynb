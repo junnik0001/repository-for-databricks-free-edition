{
 "cells": [
  {
   "cell_type": "code",
   "execution_count": 0,
   "metadata": {
    "application/vnd.databricks.v1+cell": {
     "cellMetadata": {
      "byteLimit": 2048000,
      "rowLimit": 10000
     },
     "inputWidgets": {},
     "nuid": "07a34ff6-fda0-4a34-8659-257a6181fbed",
     "showTitle": false,
     "tableResultSettingsMap": {
      "3": {
       "dataGridStateBlob": "{\"version\":1,\"tableState\":{\"columnPinning\":{\"left\":[\"#row_number#\"],\"right\":[]},\"columnSizing\":{},\"columnVisibility\":{}},\"settings\":{\"columns\":{}},\"syncTimestamp\":1758394639382}",
       "filterBlob": null,
       "queryPlanFiltersBlob": null,
       "tableResultIndex": 3
      }
     },
     "title": ""
    }
   },
   "outputs": [],
   "source": [
    "use catalog hivemetastore;\n",
    "create schema if not exists jp_seiyu_dl_tables;\n",
    "create or replace table jp_seiyu_dl_tables.seiyu_pos_items as select date(dateTime) visit_dt, transactionID tc_nbr, customerID rakuten_mbr_id,\n",
    "paymentMethod pmnt_mthd_nm, cardNumber credit_card_nbr, product item_nm, quantity sales_qty, totalPrice scan_rtl_amt from samples.bakehouse.sales_transactions;\n",
    "select * from jp_seiyu_dl_tables.seiyu_pos_items;"
   ]
  }
 ],
 "metadata": {
  "application/vnd.databricks.v1+notebook": {
   "computePreferences": null,
   "dashboards": [],
   "environmentMetadata": {
    "base_environment": "",
    "environment_version": "3"
   },
   "inputWidgetPreferences": null,
   "language": "sql",
   "notebookMetadata": {
    "pythonIndentUnit": 4
   },
   "notebookName": "setup-company-sample-data",
   "widgets": {}
  },
  "language_info": {
   "name": "sql"
  }
 },
 "nbformat": 4,
 "nbformat_minor": 0
}
